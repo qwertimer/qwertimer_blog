{
 "cells": [
  {
   "cell_type": "markdown",
   "metadata": {},
   "source": [
    "# Circuit Python in Jupyter Notebooks\n",
    "- categories: [Circuit Python, jupyter]\n"
   ]
  },
  {
   "cell_type": "markdown",
   "metadata": {},
   "source": [
    "One issue that is faced in programming microcontrollers is the inability to quickly test code and see results. Python has the ability to run what is known as a REPL (Read, Evaluate, Print, Loop). REPLs provide an interactive way to program and debug code. Circuit python and micropython have introduced a new group of programmers to the embedded world. Now anyone can program a microcontroller using a simple high level language such as python (with some exceptions). However often times a new programmer wont understand how to interact with a microcontroller from the command line and will just flash code to the controller and hope to see results. We can overcome this by using screen in a terminal and point to the microcontroller. However this is messy and harder to follow when testing large code chunks. To overcome this Adafruit have released a circuitpython kernel for the Jupyter environment allowing users to program the microcontrollers in an interactive environment such as Jupyter. Below is the outline of how to do this."
   ]
  },
  {
   "cell_type": "markdown",
   "metadata": {},
   "source": [
    "## Getting Started\n",
    "\n",
    "Install Jupyter notebooks if it hasn't been done already"
   ]
  },
  {
   "cell_type": "code",
   "execution_count": null,
   "metadata": {},
   "outputs": [],
   "source": [
    "python3 -m pip install jupyter"
   ]
  },
  {
   "cell_type": "markdown",
   "metadata": {},
   "source": [
    "We can then test this install by running jupyter notebook in the terminal with:"
   ]
  },
  {
   "cell_type": "code",
   "execution_count": null,
   "metadata": {},
   "outputs": [],
   "source": [
    "jupyter notebook"
   ]
  },
  {
   "cell_type": "markdown",
   "metadata": {},
   "source": [
    "As you can see the jupyter notebook opens in the current directory and it is of note that you can't go up a directory level. It is Worthwhile then to make sure you open jupyter notebook at the top level of your project. "
   ]
  },
  {
   "cell_type": "markdown",
   "metadata": {},
   "source": [
    "## Installing the Circuit Python Kernel\n",
    "\n",
    "We can install the programming language support through the kernel installations. This is done with a wrapper allowing the Circuitpython REPL to interact with the Jupyter code cells. To install the Kernel clone the kernel with:\n"
   ]
  },
  {
   "cell_type": "code",
   "execution_count": null,
   "metadata": {},
   "outputs": [],
   "source": [
    "git clone https://github.com/adafruit/circuitpython_kernel.git"
   ]
  },
  {
   "cell_type": "markdown",
   "metadata": {},
   "source": [
    "We then open to the folder and run the install"
   ]
  },
  {
   "cell_type": "code",
   "execution_count": null,
   "metadata": {},
   "outputs": [],
   "source": [
    "cd circuitpython_kernel/"
   ]
  },
  {
   "cell_type": "code",
   "execution_count": null,
   "metadata": {},
   "outputs": [],
   "source": [
    "python3 setup.py install\n",
    "python3 -m circuitpython_kernel.install\n"
   ]
  },
  {
   "cell_type": "markdown",
   "metadata": {},
   "source": [
    "Now we can verify by running jupyter kernelspec list"
   ]
  },
  {
   "cell_type": "markdown",
   "metadata": {},
   "source": [
    "## Creating Notebooks"
   ]
  },
  {
   "cell_type": "markdown",
   "metadata": {},
   "source": [
    "To create a notebook we can go New -> Notebook -> CircuitPython.\n",
    "From here we can start running circuitpython code for testing"
   ]
  }
 ],
 "metadata": {
  "kernelspec": {
   "display_name": "Python 3",
   "language": "python",
   "name": "python3"
  },
  "language_info": {
   "codemirror_mode": {
    "name": "ipython",
    "version": 3
   },
   "file_extension": ".py",
   "mimetype": "text/x-python",
   "name": "python",
   "nbconvert_exporter": "python",
   "pygments_lexer": "ipython3",
   "version": "3.8.5"
  }
 },
 "nbformat": 4,
 "nbformat_minor": 4
}
