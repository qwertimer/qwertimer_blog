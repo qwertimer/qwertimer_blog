{
 "cells": [
  {
   "cell_type": "markdown",
   "metadata": {},
   "source": [
    "# Using nbdev to automate CircuitPython development"
   ]
  },
  {
   "cell_type": "markdown",
   "metadata": {},
   "source": [
    "Circuit python is a powerful programming environment for developing on microcontrollers. When we integrate the Jupyter notebook into the development cycle we can begin to create useble code blocks that we can test on the fly. One disadvantage to this is that these REPL based notebooks can't be flashed or deployed to the microcontroller. One way we can overcome this is utilise nbdev from fastai --https://github.com/fastai/nbdev. nbdev has a very useful tool which exports the current cell to a python file. To Implement this a few keywords are utilised in the notebooks. The biggest one of these is ```#export``` This exports the current code cell to the python file indicated by the header information. This is labelled with ```#default_exp``` and the module name for example ```#default_exp core```"
   ]
  },
  {
   "cell_type": "code",
   "execution_count": null,
   "metadata": {},
   "outputs": [],
   "source": []
  }
 ],
 "metadata": {
  "kernelspec": {
   "display_name": "Python 3",
   "language": "python",
   "name": "python3"
  },
  "language_info": {
   "codemirror_mode": {
    "name": "ipython",
    "version": 3
   },
   "file_extension": ".py",
   "mimetype": "text/x-python",
   "name": "python",
   "nbconvert_exporter": "python",
   "pygments_lexer": "ipython3",
   "version": "3.8.5"
  }
 },
 "nbformat": 4,
 "nbformat_minor": 4
}
