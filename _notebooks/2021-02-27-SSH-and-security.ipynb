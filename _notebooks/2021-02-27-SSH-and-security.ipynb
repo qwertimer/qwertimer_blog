{
 "cells": [
  {
   "cell_type": "markdown",
   "metadata": {},
   "source": [
    "# SSH configuration \n"
   ]
  },
  {
   "cell_type": "markdown",
   "metadata": {},
   "source": [
    "To setup a ssh link with a system a few configurations need\n",
    "to be undertaken. The first is to make sure you have a ssh key generated. This can be done with."
   ]
  },
  {
   "cell_type": "code",
   "execution_count": null,
   "metadata": {},
   "outputs": [],
   "source": [
    "ssh-keygen -t ed25519"
   ]
  },
  {
   "cell_type": "markdown",
   "metadata": {},
   "source": [
    "if you would like you can add alias ssh-keygen=\"ssh-keygen -t ed25519\" to always have ed25519 as your default.\n",
    "Once the ssh key is generated log onto the remote system and run"
   ]
  },
  {
   "cell_type": "code",
   "execution_count": null,
   "metadata": {},
   "outputs": [],
   "source": [
    "ifconfig"
   ]
  },
  {
   "cell_type": "markdown",
   "metadata": {},
   "source": [
    "This will give you the ip address. Log in from the host machine using "
   ]
  },
  {
   "cell_type": "code",
   "execution_count": null,
   "metadata": {},
   "outputs": [],
   "source": [
    "ssh <username>@<ip-address>"
   ]
  },
  {
   "cell_type": "markdown",
   "metadata": {},
   "source": [
    "If this is working we can then log back out by hitting "
   ]
  },
  {
   "cell_type": "code",
   "execution_count": null,
   "metadata": {},
   "outputs": [],
   "source": [
    "ctrl - D"
   ]
  },
  {
   "cell_type": "markdown",
   "metadata": {},
   "source": [
    "\n",
    "This will kill the link or sigkill in technical terms. Once we are back on our host system we need to send the ssh-key to the remote system to do this we send"
   ]
  },
  {
   "cell_type": "code",
   "execution_count": null,
   "metadata": {},
   "outputs": [],
   "source": [
    "\n",
    "ssh-copy-id -i ~/.ssh/mykey <username>@<ip-address>"
   ]
  },
  {
   "cell_type": "markdown",
   "metadata": {},
   "source": [
    "this should send the ssh key to the remote. To confirm this we use. "
   ]
  },
  {
   "cell_type": "code",
   "execution_count": null,
   "metadata": {},
   "outputs": [],
   "source": [
    "ssh -i ~/.ssh/mykey <username>@<ip-address>"
   ]
  },
  {
   "cell_type": "markdown",
   "metadata": {},
   "source": [
    "Once confirmed lets log into the remote and change some default settings in the ssh config.\n",
    "SSH back into the system with "
   ]
  },
  {
   "cell_type": "code",
   "execution_count": null,
   "metadata": {},
   "outputs": [],
   "source": [
    "\n",
    "ssh <username>@<ip-address>"
   ]
  },
  {
   "cell_type": "markdown",
   "metadata": {},
   "source": [
    "Once logged in navigate to the sshd_config file with"
   ]
  },
  {
   "cell_type": "code",
   "execution_count": null,
   "metadata": {},
   "outputs": [],
   "source": [
    "sudo vim /etc/ssh/sshd_config"
   ]
  },
  {
   "cell_type": "markdown",
   "metadata": {},
   "source": [
    "type your sudo password and open up the editor. If you don't wish to use vim you can change the command to"
   ]
  },
  {
   "cell_type": "code",
   "execution_count": null,
   "metadata": {},
   "outputs": [],
   "source": [
    "sudo nano /etc/ssh/sshd_config"
   ]
  },
  {
   "cell_type": "markdown",
   "metadata": {},
   "source": [
    "Once in the editor navigate to Port and change the Port from the default 22 to something else\n",
    "eg."
   ]
  },
  {
   "cell_type": "code",
   "execution_count": null,
   "metadata": {},
   "outputs": [],
   "source": [
    "Port 1034"
   ]
  },
  {
   "cell_type": "markdown",
   "metadata": {},
   "source": [
    "Remember this port number as you will need it to log in later. Next remove PermitRootLogin to reduce security risks over ssh with"
   ]
  },
  {
   "cell_type": "code",
   "execution_count": null,
   "metadata": {},
   "outputs": [],
   "source": [
    "PermitRootLogin no"
   ]
  },
  {
   "cell_type": "markdown",
   "metadata": {},
   "source": [
    "next change PubKeyAuthentication to yes"
   ]
  },
  {
   "cell_type": "code",
   "execution_count": null,
   "metadata": {},
   "outputs": [],
   "source": [
    "PubkeyAuthentication yes"
   ]
  },
  {
   "cell_type": "markdown",
   "metadata": {},
   "source": [
    "\n",
    "We can now disable password authentication as we are using a key pair."
   ]
  },
  {
   "cell_type": "code",
   "execution_count": null,
   "metadata": {},
   "outputs": [],
   "source": [
    "PasswordAuthentication no"
   ]
  },
  {
   "cell_type": "markdown",
   "metadata": {},
   "source": [
    "If we want to forward a jupyter notebook through an ssh tunnel we can change TCP forwarding to yes"
   ]
  },
  {
   "cell_type": "code",
   "execution_count": null,
   "metadata": {},
   "outputs": [],
   "source": [
    "AllowTcpForwarding yes"
   ]
  },
  {
   "cell_type": "markdown",
   "metadata": {},
   "source": [
    "We can now save and close this file. Once the file is closed we need to restart the systemctl service of the ssh deamon. This is done with \n"
   ]
  },
  {
   "cell_type": "code",
   "execution_count": null,
   "metadata": {},
   "outputs": [],
   "source": [
    "sudo systemctl restart sshd.service"
   ]
  },
  {
   "cell_type": "markdown",
   "metadata": {},
   "source": [
    "This may close your ssh link. Once it is restarted try to remote back into the\n",
    "system with:"
   ]
  },
  {
   "cell_type": "code",
   "execution_count": null,
   "metadata": {},
   "outputs": [],
   "source": [
    "ssh -p 1034 <username>@<ip-address>"
   ]
  },
  {
   "cell_type": "markdown",
   "metadata": {},
   "source": [
    "The -p is for port which we set up before. If this works you should have a terminal up and running\n",
    "for the remote machine."
   ]
  }
 ],
 "metadata": {
  "kernelspec": {
   "display_name": "Python 3",
   "language": "python",
   "name": "python3"
  },
  "language_info": {
   "codemirror_mode": {
    "name": "ipython",
    "version": 3
   },
   "file_extension": ".py",
   "mimetype": "text/x-python",
   "name": "python",
   "nbconvert_exporter": "python",
   "pygments_lexer": "ipython3",
   "version": "3.8.5"
  }
 },
 "nbformat": 4,
 "nbformat_minor": 4
}
