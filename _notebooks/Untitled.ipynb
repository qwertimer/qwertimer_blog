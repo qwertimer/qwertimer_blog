{
 "cells": [
  {
   "cell_type": "markdown",
   "id": "bright-indie",
   "metadata": {},
   "source": [
    "# Building a Jupyter development environment for microcontrollers"
   ]
  },
  {
   "cell_type": "markdown",
   "id": "mental-display",
   "metadata": {},
   "source": [
    "\n",
    "## micropython magic\n",
    "\n",
    "\n",
    "**-- Taken from https://github.com/v923z/micropython-usermod/blob/master/docs/micropython-usermod.ipynb --**\n",
    "\n",
    "To make the usage a bit more convenient, we will just register a magic method here to run micropython directly from the notebook. If you don't know what ipython magics are, you can read more at https://ipython.readthedocs.io/en/stable/interactive/magics.html. In any case, we are going to take the contents of a code cell, and pass it to micropython, either on the local machine (unix port), or the bare metal hardware (e.g. the pyboard) as a script.\n",
    "\n",
    "Note that adding the magic commands makes the python code a wee bit ugly: when running (micro)python with a script file, we won't have so much output as in the interactive console. In fact, except for tracebacks and the results of explicit print statements, we won't see anything at all. For this reason, we will have to call print, whenever we would like to import the results into the notebook. But what the heck! I can definitely put up with that much.\n"
   ]
  },
  {
   "cell_type": "code",
   "execution_count": 10,
   "id": "quiet-liverpool",
   "metadata": {},
   "outputs": [],
   "source": [
    "from IPython.core.magic import Magics, magics_class, line_cell_magic\n",
    "from IPython.core.magic import cell_magic, register_cell_magic, register_line_magic\n",
    "import subprocess\n",
    "import os\n"
   ]
  },
  {
   "cell_type": "code",
   "execution_count": 22,
   "id": "automated-finance",
   "metadata": {},
   "outputs": [],
   "source": [
    "@register_cell_magic\n",
    "def micropython(line, cell):\n",
    "    with open('/snap/bin/micropython.py', 'w') as fout:\n",
    "        fout.write(cell)\n",
    "    proc = subprocess.Popen([\"./micropython\", \"/snap/bin/micropython.py\"], \n",
    "                            stdout=subprocess.PIPE, stderr=subprocess.PIPE)\n",
    "    print(proc.stdout.read().decode(\"utf-8\"))\n",
    "    print(proc.stderr.read().decode(\"utf-8\"))\n",
    "    return None"
   ]
  },
  {
   "cell_type": "markdown",
   "id": "considerable-flavor",
   "metadata": {},
   "source": [
    "\n",
    "\n",
    "The following function does nothing outside the notebook: it simply registers a new mode for syntax highlighting, and switches to C, whenever the cell begins with the string %%ccode, or %%makefile.\n"
   ]
  },
  {
   "cell_type": "code",
   "execution_count": 23,
   "id": "accompanied-suggestion",
   "metadata": {},
   "outputs": [],
   "source": [
    "from IPython.core.display import display_javascript"
   ]
  },
  {
   "cell_type": "markdown",
   "id": "dirty-commission",
   "metadata": {},
   "source": [
    "\n",
    "\n",
    "And finally, at long last, here are the two magic commands. %makefile is simple: each micropython.mk makefile is the same, with the exception of the file name that it is supposed to compile. So, we can take a very generic string, and insert the target. In order to have some trace in the notebook, we also insert the content of the so-generated file into the input field of the cell.\n",
    "\n",
    "%%ccode reads the contents of the input field of the cell, adds a small header, and writes everything into a file.\n"
   ]
  },
  {
   "cell_type": "code",
   "execution_count": 24,
   "id": "silent-tours",
   "metadata": {},
   "outputs": [],
   "source": [
    "\n",
    "\n",
    "@magics_class\n",
    "class MyMagics(Magics):\n",
    "\n",
    "    @line_cell_magic\n",
    "    def makefile(self, line, cell=None):\n",
    "        raw_cell = \"USERMODULES_DIR := $(USERMOD_DIR)\\n\\n# Add all C files to SRC_USERMOD\"\n",
    "        for _line in cell.split():\n",
    "            raw_cell += \"\\nSRC_USERMOD += $(USERMODULES_DIR)/\" + _line\n",
    "            \n",
    "        raw_cell += \"\\n\\nCFLAGS_USERMOD += -I$(USERMODULES_DIR)\"\n",
    "        with open('../../../usermod/snippets'+line.replace(line.split('/')[-1], 'micropython.mk'), 'w') as mout:\n",
    "            mout.write(raw_cell)\n",
    "        self.shell.set_next_input('%%makefile {}\\n\\n{}'.format(line, raw_cell), replace=True)\n",
    "        return None\n",
    "        \n",
    "    @cell_magic\n",
    "    def ccode(self, line, cell):\n",
    "        copyright = \"\"\"/*\n",
    " * This file is part of the micropython-usermod project, \n",
    " *\n",
    " * https://github.com/v923z/micropython-usermod\n",
    " *\n",
    " * The MIT License (MIT)\n",
    " *\n",
    " * Copyright (c) 2019-2020 Zoltán Vörös\n",
    "*/\n",
    "    \"\"\"\n",
    "        if line:\n",
    "            with open('../../../usermod/snippets'+line, 'w') as cout:\n",
    "                cout.write(copyright)\n",
    "                cout.write(cell)\n",
    "            print('written %d bytes to %s'%(len(copyright) + len(cell), line))\n",
    "            return None\n",
    "\n",
    "ip = get_ipython()\n",
    "ip.register_magics(MyMagics)\n",
    "\n"
   ]
  },
  {
   "cell_type": "code",
   "execution_count": 25,
   "id": "present-chicken",
   "metadata": {},
   "outputs": [
    {
     "ename": "PermissionError",
     "evalue": "[Errno 13] Permission denied: '/snap/bin/micropython.py'",
     "output_type": "error",
     "traceback": [
      "\u001b[0;31m---------------------------------------------------------------------------\u001b[0m",
      "\u001b[0;31mPermissionError\u001b[0m                           Traceback (most recent call last)",
      "\u001b[0;32m<ipython-input-25-72847eee1f2a>\u001b[0m in \u001b[0;36m<module>\u001b[0;34m\u001b[0m\n\u001b[0;32m----> 1\u001b[0;31m \u001b[0mget_ipython\u001b[0m\u001b[0;34m(\u001b[0m\u001b[0;34m)\u001b[0m\u001b[0;34m.\u001b[0m\u001b[0mrun_cell_magic\u001b[0m\u001b[0;34m(\u001b[0m\u001b[0;34m'micropython'\u001b[0m\u001b[0;34m,\u001b[0m \u001b[0;34m''\u001b[0m\u001b[0;34m,\u001b[0m \u001b[0;34m'import os\\n'\u001b[0m\u001b[0;34m)\u001b[0m\u001b[0;34m\u001b[0m\u001b[0;34m\u001b[0m\u001b[0m\n\u001b[0m",
      "\u001b[0;32m~/miniconda3/lib/python3.8/site-packages/IPython/core/interactiveshell.py\u001b[0m in \u001b[0;36mrun_cell_magic\u001b[0;34m(self, magic_name, line, cell)\u001b[0m\n\u001b[1;32m   2397\u001b[0m             \u001b[0;32mwith\u001b[0m \u001b[0mself\u001b[0m\u001b[0;34m.\u001b[0m\u001b[0mbuiltin_trap\u001b[0m\u001b[0;34m:\u001b[0m\u001b[0;34m\u001b[0m\u001b[0;34m\u001b[0m\u001b[0m\n\u001b[1;32m   2398\u001b[0m                 \u001b[0margs\u001b[0m \u001b[0;34m=\u001b[0m \u001b[0;34m(\u001b[0m\u001b[0mmagic_arg_s\u001b[0m\u001b[0;34m,\u001b[0m \u001b[0mcell\u001b[0m\u001b[0;34m)\u001b[0m\u001b[0;34m\u001b[0m\u001b[0;34m\u001b[0m\u001b[0m\n\u001b[0;32m-> 2399\u001b[0;31m                 \u001b[0mresult\u001b[0m \u001b[0;34m=\u001b[0m \u001b[0mfn\u001b[0m\u001b[0;34m(\u001b[0m\u001b[0;34m*\u001b[0m\u001b[0margs\u001b[0m\u001b[0;34m,\u001b[0m \u001b[0;34m**\u001b[0m\u001b[0mkwargs\u001b[0m\u001b[0;34m)\u001b[0m\u001b[0;34m\u001b[0m\u001b[0;34m\u001b[0m\u001b[0m\n\u001b[0m\u001b[1;32m   2400\u001b[0m             \u001b[0;32mreturn\u001b[0m \u001b[0mresult\u001b[0m\u001b[0;34m\u001b[0m\u001b[0;34m\u001b[0m\u001b[0m\n\u001b[1;32m   2401\u001b[0m \u001b[0;34m\u001b[0m\u001b[0m\n",
      "\u001b[0;32m<ipython-input-22-2ccece1fd339>\u001b[0m in \u001b[0;36mmicropython\u001b[0;34m(line, cell)\u001b[0m\n\u001b[1;32m      1\u001b[0m \u001b[0;34m@\u001b[0m\u001b[0mregister_cell_magic\u001b[0m\u001b[0;34m\u001b[0m\u001b[0;34m\u001b[0m\u001b[0m\n\u001b[1;32m      2\u001b[0m \u001b[0;32mdef\u001b[0m \u001b[0mmicropython\u001b[0m\u001b[0;34m(\u001b[0m\u001b[0mline\u001b[0m\u001b[0;34m,\u001b[0m \u001b[0mcell\u001b[0m\u001b[0;34m)\u001b[0m\u001b[0;34m:\u001b[0m\u001b[0;34m\u001b[0m\u001b[0;34m\u001b[0m\u001b[0m\n\u001b[0;32m----> 3\u001b[0;31m     \u001b[0;32mwith\u001b[0m \u001b[0mopen\u001b[0m\u001b[0;34m(\u001b[0m\u001b[0;34m'/snap/bin/micropython.py'\u001b[0m\u001b[0;34m,\u001b[0m \u001b[0;34m'w'\u001b[0m\u001b[0;34m)\u001b[0m \u001b[0;32mas\u001b[0m \u001b[0mfout\u001b[0m\u001b[0;34m:\u001b[0m\u001b[0;34m\u001b[0m\u001b[0;34m\u001b[0m\u001b[0m\n\u001b[0m\u001b[1;32m      4\u001b[0m         \u001b[0mfout\u001b[0m\u001b[0;34m.\u001b[0m\u001b[0mwrite\u001b[0m\u001b[0;34m(\u001b[0m\u001b[0mcell\u001b[0m\u001b[0;34m)\u001b[0m\u001b[0;34m\u001b[0m\u001b[0;34m\u001b[0m\u001b[0m\n\u001b[1;32m      5\u001b[0m     proc = subprocess.Popen([\"./micropython\", \"/snap/bin/micropython.py\"], \n",
      "\u001b[0;31mPermissionError\u001b[0m: [Errno 13] Permission denied: '/snap/bin/micropython.py'"
     ]
    }
   ],
   "source": [
    "%%micropython\n",
    "import os"
   ]
  },
  {
   "cell_type": "code",
   "execution_count": null,
   "id": "every-custom",
   "metadata": {},
   "outputs": [],
   "source": []
  }
 ],
 "metadata": {
  "kernelspec": {
   "display_name": "Python 3",
   "language": "python",
   "name": "python3"
  },
  "language_info": {
   "codemirror_mode": {
    "name": "ipython",
    "version": 3
   },
   "file_extension": ".py",
   "mimetype": "text/x-python",
   "name": "python",
   "nbconvert_exporter": "python",
   "pygments_lexer": "ipython3",
   "version": "3.8.5"
  }
 },
 "nbformat": 4,
 "nbformat_minor": 5
}
